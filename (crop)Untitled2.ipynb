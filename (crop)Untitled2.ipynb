{
  "nbformat": 4,
  "nbformat_minor": 0,
  "metadata": {
    "colab": {
      "provenance": [],
      "authorship_tag": "ABX9TyMUdN0XNaqVj/jmBfRxKPY8",
      "include_colab_link": true
    },
    "kernelspec": {
      "name": "python3",
      "display_name": "Python 3"
    },
    "language_info": {
      "name": "python"
    }
  },
  "cells": [
    {
      "cell_type": "markdown",
      "metadata": {
        "id": "view-in-github",
        "colab_type": "text"
      },
      "source": [
        "<a href=\"https://colab.research.google.com/github/aaaaaaa-creator/Online-Voting-System/blob/main/(crop)Untitled2.ipynb\" target=\"_parent\"><img src=\"https://colab.research.google.com/assets/colab-badge.svg\" alt=\"Open In Colab\"/></a>"
      ]
    },
    {
      "cell_type": "code",
      "execution_count": 2,
      "metadata": {
        "id": "qsuYdBFdgt-2",
        "colab": {
          "base_uri": "https://localhost:8080/"
        },
        "outputId": "320440fb-a385-43bd-8cf7-55cf4075995b"
      },
      "outputs": [
        {
          "output_type": "stream",
          "name": "stdout",
          "text": [
            "Predicted Crop Yield: 2111.65 kg/hectare\n"
          ]
        }
      ],
      "source": [
        "import pandas as pd\n",
        "from sklearn.preprocessing import LabelEncoder\n",
        "from sklearn.model_selection import train_test_split\n",
        "from sklearn.linear_model import LinearRegression\n",
        "\n",
        "# Load dataset\n",
        "data = pd.read_csv('crop_yield_data.csv')\n",
        "\n",
        "# Encode categorical columns\n",
        "label_encoder_soil = LabelEncoder()\n",
        "label_encoder_crop = LabelEncoder()\n",
        "\n",
        "data['soil_type'] = label_encoder_soil.fit_transform(data['soil_type'])\n",
        "data['crop_type'] = label_encoder_crop.fit_transform(data['crop_type'])\n",
        "\n",
        "# Features and target\n",
        "X = data[['temperature', 'rainfall', 'humidity', 'soil_type', 'crop_type']]\n",
        "y = data['yield']\n",
        "\n",
        "# Train-test split\n",
        "X_train, X_test, y_train, y_test = train_test_split(X, y, test_size=0.2, random_state=42)\n",
        "\n",
        "# Train model\n",
        "model = LinearRegression()\n",
        "model.fit(X_train, y_train)\n",
        "\n",
        "# Predict on a sample input\n",
        "# Example input: temperature=28, rainfall=150, humidity=70, soil=clay, crop=rice\n",
        "sample_soil = label_encoder_soil.transform(['clay'])[0]\n",
        "sample_crop = label_encoder_crop.transform(['rice'])[0]\n",
        "\n",
        "sample_input = pd.DataFrame([[28, 150, 70, sample_soil, sample_crop]],\n",
        "                            columns=['temperature', 'rainfall', 'humidity', 'soil_type', 'crop_type'])\n",
        "\n",
        "predicted_yield = model.predict(sample_input)\n",
        "print(f\"Predicted Crop Yield: {predicted_yield[0]:.2f} kg/hectare\")\n"
      ]
    },
    {
      "cell_type": "code",
      "source": [],
      "metadata": {
        "id": "g1ZPvbJBh6fe"
      },
      "execution_count": null,
      "outputs": []
    }
  ]
}